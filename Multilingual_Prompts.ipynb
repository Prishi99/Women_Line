{
  "nbformat": 4,
  "nbformat_minor": 0,
  "metadata": {
    "colab": {
      "provenance": [],
      "authorship_tag": "ABX9TyNC6HKfDMoVpD1e9IQzeJjz",
      "include_colab_link": true
    },
    "kernelspec": {
      "name": "python3",
      "display_name": "Python 3"
    },
    "language_info": {
      "name": "python"
    }
  },
  "cells": [
    {
      "cell_type": "markdown",
      "metadata": {
        "id": "view-in-github",
        "colab_type": "text"
      },
      "source": [
        "<a href=\"https://colab.research.google.com/github/Prishi99/Women_Line/blob/main/Multilingual_Prompts.ipynb\" target=\"_parent\"><img src=\"https://colab.research.google.com/assets/colab-badge.svg\" alt=\"Open In Colab\"/></a>"
      ]
    },
    {
      "cell_type": "code",
      "execution_count": 1,
      "metadata": {
        "colab": {
          "base_uri": "https://localhost:8080/"
        },
        "id": "ijfCr5R9c542",
        "outputId": "1b012abd-eb43-4ab0-8600-f74af5309f55"
      },
      "outputs": [
        {
          "output_type": "stream",
          "name": "stdout",
          "text": [
            "Requirement already satisfied: pandas in /usr/local/lib/python3.11/dist-packages (2.2.2)\n",
            "Collecting deep-translator\n",
            "  Downloading deep_translator-1.11.4-py3-none-any.whl.metadata (30 kB)\n",
            "Requirement already satisfied: numpy>=1.23.2 in /usr/local/lib/python3.11/dist-packages (from pandas) (2.0.2)\n",
            "Requirement already satisfied: python-dateutil>=2.8.2 in /usr/local/lib/python3.11/dist-packages (from pandas) (2.9.0.post0)\n",
            "Requirement already satisfied: pytz>=2020.1 in /usr/local/lib/python3.11/dist-packages (from pandas) (2025.2)\n",
            "Requirement already satisfied: tzdata>=2022.7 in /usr/local/lib/python3.11/dist-packages (from pandas) (2025.2)\n",
            "Requirement already satisfied: beautifulsoup4<5.0.0,>=4.9.1 in /usr/local/lib/python3.11/dist-packages (from deep-translator) (4.13.4)\n",
            "Requirement already satisfied: requests<3.0.0,>=2.23.0 in /usr/local/lib/python3.11/dist-packages (from deep-translator) (2.32.3)\n",
            "Requirement already satisfied: soupsieve>1.2 in /usr/local/lib/python3.11/dist-packages (from beautifulsoup4<5.0.0,>=4.9.1->deep-translator) (2.7)\n",
            "Requirement already satisfied: typing-extensions>=4.0.0 in /usr/local/lib/python3.11/dist-packages (from beautifulsoup4<5.0.0,>=4.9.1->deep-translator) (4.14.1)\n",
            "Requirement already satisfied: six>=1.5 in /usr/local/lib/python3.11/dist-packages (from python-dateutil>=2.8.2->pandas) (1.17.0)\n",
            "Requirement already satisfied: charset-normalizer<4,>=2 in /usr/local/lib/python3.11/dist-packages (from requests<3.0.0,>=2.23.0->deep-translator) (3.4.2)\n",
            "Requirement already satisfied: idna<4,>=2.5 in /usr/local/lib/python3.11/dist-packages (from requests<3.0.0,>=2.23.0->deep-translator) (3.10)\n",
            "Requirement already satisfied: urllib3<3,>=1.21.1 in /usr/local/lib/python3.11/dist-packages (from requests<3.0.0,>=2.23.0->deep-translator) (2.4.0)\n",
            "Requirement already satisfied: certifi>=2017.4.17 in /usr/local/lib/python3.11/dist-packages (from requests<3.0.0,>=2.23.0->deep-translator) (2025.7.9)\n",
            "Downloading deep_translator-1.11.4-py3-none-any.whl (42 kB)\n",
            "\u001b[?25l   \u001b[90m━━━━━━━━━━━━━━━━━━━━━━━━━━━━━━━━━━━━━━━━\u001b[0m \u001b[32m0.0/42.3 kB\u001b[0m \u001b[31m?\u001b[0m eta \u001b[36m-:--:--\u001b[0m\r\u001b[2K   \u001b[90m━━━━━━━━━━━━━━━━━━━━━━━━━━━━━━━━━━━━━━━━\u001b[0m \u001b[32m42.3/42.3 kB\u001b[0m \u001b[31m3.0 MB/s\u001b[0m eta \u001b[36m0:00:00\u001b[0m\n",
            "\u001b[?25hInstalling collected packages: deep-translator\n",
            "Successfully installed deep-translator-1.11.4\n"
          ]
        }
      ],
      "source": [
        "pip install pandas deep-translator\n"
      ]
    },
    {
      "cell_type": "code",
      "source": [
        "import pandas as pd\n",
        "from deep_translator import GoogleTranslator\n",
        "\n",
        "# Load your CSV file\n",
        "df = pd.read_csv(\"Prompts.csv\")  # Replace with your actual CSV path\n",
        "\n",
        "# Add columns if they don't exist\n",
        "df['Hindi Translation'] = \"\"\n",
        "df['Code-Mixed (Hinglish)'] = \"\"\n",
        "\n",
        "# Function to translate to Hindi\n",
        "def translate_to_hindi(text):\n",
        "    try:\n",
        "        return GoogleTranslator(source='auto', target='hi').translate(text)\n",
        "    except Exception as e:\n",
        "        print(f\"Error translating '{text}' to Hindi: {e}\")\n",
        "        return text\n",
        "\n",
        "# Function to create code-mixed (Hinglish)\n",
        "def code_mixed(text, hindi_translation):\n",
        "    # Very simple code-mix strategy: combine original with keywords from Hindi\n",
        "    return f\"{text.split('?')[0]} ka kya solution hai?\" if \"?\" in text else text + \" ke baare mein kya jaan sakte hain?\"\n",
        "\n",
        "# Translate all prompts\n",
        "for idx, row in df.iterrows():\n",
        "    english_prompt = row['Prompt']\n",
        "    hindi = translate_to_hindi(english_prompt)\n",
        "    hinglish = code_mixed(english_prompt, hindi)\n",
        "\n",
        "    df.at[idx, 'Hindi Translation'] = hindi\n",
        "    df.at[idx, 'Code-Mixed (Hinglish)'] = hinglish\n",
        "\n",
        "# Save to a new CSV\n",
        "df.to_csv(\"translated_prompts.csv\", index=False)\n",
        "print(\"✅ Translations saved to translated_prompts.csv\")\n"
      ],
      "metadata": {
        "colab": {
          "base_uri": "https://localhost:8080/"
        },
        "id": "RClvsTS8dJ9S",
        "outputId": "438dca13-b03b-4ec8-95e6-3ce099395e9f"
      },
      "execution_count": 7,
      "outputs": [
        {
          "output_type": "stream",
          "name": "stdout",
          "text": [
            "✅ Translations saved to translated_prompts.csv\n"
          ]
        }
      ]
    },
    {
      "cell_type": "code",
      "source": [
        "import pandas as pd\n",
        "\n",
        "# Load the translated CSV\n",
        "df = pd.read_csv(\"translated_prompts.csv\")\n",
        "\n",
        "# Add a new column for Category\n",
        "df[\"Category\"] = \"\"\n",
        "\n",
        "# Define basic keyword rules\n",
        "def categorize(prompt):\n",
        "    prompt_lower = prompt.lower()\n",
        "\n",
        "    if any(x in prompt_lower for x in [\"symptom\", \"cramp\", \"pain\", \"irregular\", \"fatigue\", \"bloating\"]):\n",
        "        return \"Symptoms\"\n",
        "    elif any(x in prompt_lower for x in [\"anxiety\", \"depression\", \"mood swing\", \"emotional\", \"stress\"]):\n",
        "        return \"Emotions\"\n",
        "    elif \"?\" in prompt_lower or prompt_lower.startswith(\"how\") or prompt_lower.startswith(\"what\") or prompt_lower.startswith(\"why\"):\n",
        "        return \"Questions\"\n",
        "    else:\n",
        "        return \"Intent\"\n",
        "\n",
        "# Apply categorization\n",
        "df[\"Category\"] = df[\"Prompt\"].apply(categorize)\n",
        "\n",
        "# Save categorized CSV\n",
        "df.to_csv(\"categorized_prompts.csv\", index=False)\n",
        "print(\"✅ Categorization complete and saved to categorized_prompts.csv\")\n"
      ],
      "metadata": {
        "colab": {
          "base_uri": "https://localhost:8080/"
        },
        "id": "bQyZGlRjfd7G",
        "outputId": "bf2d8384-264d-4444-f757-a952f33847b7"
      },
      "execution_count": 8,
      "outputs": [
        {
          "output_type": "stream",
          "name": "stdout",
          "text": [
            "✅ Categorization complete and saved to categorized_prompts.csv\n"
          ]
        }
      ]
    },
    {
      "cell_type": "code",
      "source": [
        "import pandas as pd\n",
        "\n",
        "# Load the categorized file\n",
        "df = pd.read_csv(\"categorized_prompts.csv\")\n",
        "\n",
        "# Add Context and Tags columns if not already present\n",
        "df[\"Context\"] = \"\"\n",
        "df[\"Tags\"] = \"\"\n",
        "\n",
        "# Context and tag rules\n",
        "def get_context_and_tags(prompt):\n",
        "    p = prompt.lower()\n",
        "\n",
        "    # Default values\n",
        "    context = \"general\"\n",
        "    tags = []\n",
        "\n",
        "    # Health-related symptoms\n",
        "    if any(word in p for word in [\"cramp\", \"period pain\", \"irregular\", \"flow\", \"spotting\", \"bloating\"]):\n",
        "        context = \"period health\"\n",
        "        tags = [\"menstruation\", \"pain\", \"symptom\"]\n",
        "\n",
        "    elif any(word in p for word in [\"mood swing\", \"anxiety\", \"depression\", \"lonely\", \"cry\", \"stress\"]):\n",
        "        context = \"mental wellness\"\n",
        "        tags = [\"emotion\", \"mental health\", \"stress\"]\n",
        "\n",
        "    elif any(word in p for word in [\"exercise\", \"diet\", \"track\", \"remedy\", \"cope\", \"solution\"]):\n",
        "        context = \"self-care\"\n",
        "        tags = [\"coping\", \"remedy\", \"self-help\"]\n",
        "\n",
        "    elif any(word in p for word in [\"pcos\", \"hormonal\", \"imbalance\"]):\n",
        "        context = \"PCOS awareness\"\n",
        "        tags = [\"PCOS\", \"hormones\"]\n",
        "\n",
        "    elif any(word in p for word in [\"teen\", \"first period\", \"young\", \"school\"]):\n",
        "        context = \"teen health\"\n",
        "        tags = [\"teen\", \"first period\", \"awareness\"]\n",
        "\n",
        "    # Return\n",
        "    return context, \", \".join(tags)\n",
        "\n",
        "# Apply to DataFrame\n",
        "df[[\"Context\", \"Tags\"]] = df[\"Prompt\"].apply(lambda x: pd.Series(get_context_and_tags(x)))\n",
        "\n",
        "# Save it\n",
        "df.to_csv(\"final_prompts_dataset.csv\", index=False)\n",
        "print(\"✅ Context and Tags added! File saved as final_prompts_dataset.csv\")\n"
      ],
      "metadata": {
        "colab": {
          "base_uri": "https://localhost:8080/"
        },
        "id": "3fc4D5ImgBuF",
        "outputId": "19869d0a-02d9-4af5-d945-724902b1d8e1"
      },
      "execution_count": 9,
      "outputs": [
        {
          "output_type": "stream",
          "name": "stdout",
          "text": [
            "✅ Context and Tags added! File saved as final_prompts_dataset.csv\n"
          ]
        }
      ]
    },
    {
      "cell_type": "code",
      "source": [
        "import pandas as pd\n",
        "from deep_translator import GoogleTranslator\n",
        "\n",
        "# Load your final dataset\n",
        "df = pd.read_csv(\"final_prompts_dataset.csv\")\n",
        "\n",
        "# List of languages to translate to\n",
        "target_languages = {\n",
        "    \"Tamil\": \"ta\",\n",
        "    \"Bengali\": \"bn\",\n",
        "    \"Marathi\": \"mr\",\n",
        "    # You can add more here (e.g. \"Urdu\": \"ur\", \"Telugu\": \"te\")\n",
        "}\n",
        "\n",
        "# Add empty columns for each language\n",
        "for lang in target_languages:\n",
        "    col_name = f\"{lang} Translation\"\n",
        "    if col_name not in df.columns:\n",
        "        df[col_name] = \"\"\n",
        "\n",
        "# Translate function\n",
        "def translate_prompt(text, target_lang_code):\n",
        "    try:\n",
        "        return GoogleTranslator(source='auto', target=target_lang_code).translate(text)\n",
        "    except Exception as e:\n",
        "        print(f\"❌ Error for '{text}': {e}\")\n",
        "        return \"\"\n",
        "\n",
        "# Perform translation for each prompt into each language\n",
        "for idx, row in df.iterrows():\n",
        "    prompt = row[\"Prompt\"]\n",
        "    for lang, code in target_languages.items():\n",
        "        translated_text = translate_prompt(prompt, code)\n",
        "        df.at[idx, f\"{lang} Translation\"] = translated_text\n",
        "\n",
        "# Save updated file\n",
        "df.to_csv(\"multilingual_prompts_dataset.csv\", index=False)\n",
        "print(\"✅ All prompts translated and saved to multilingual_prompts_dataset.csv\")\n"
      ],
      "metadata": {
        "colab": {
          "base_uri": "https://localhost:8080/"
        },
        "id": "U136a-h8jH5r",
        "outputId": "cc9f1793-c8c3-4d4a-acd8-d326cdd069d5"
      },
      "execution_count": 10,
      "outputs": [
        {
          "output_type": "stream",
          "name": "stdout",
          "text": [
            "✅ All prompts translated and saved to multilingual_prompts_dataset.csv\n"
          ]
        }
      ]
    },
    {
      "cell_type": "code",
      "source": [],
      "metadata": {
        "id": "U51Ub_ZRvngu"
      },
      "execution_count": 10,
      "outputs": []
    }
  ]
}