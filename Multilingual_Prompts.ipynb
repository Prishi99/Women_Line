{
  "nbformat": 4,
  "nbformat_minor": 0,
  "metadata": {
    "colab": {
      "provenance": [],
      "authorship_tag": "ABX9TyNZuXd1QJWBpRXQNfzpokqf",
      "include_colab_link": true
    },
    "kernelspec": {
      "name": "python3",
      "display_name": "Python 3"
    },
    "language_info": {
      "name": "python"
    }
  },
  "cells": [
    {
      "cell_type": "markdown",
      "metadata": {
        "id": "view-in-github",
        "colab_type": "text"
      },
      "source": [
        "<a href=\"https://colab.research.google.com/github/Prishi99/Women_Line/blob/main/Multilingual_Prompts.ipynb\" target=\"_parent\"><img src=\"https://colab.research.google.com/assets/colab-badge.svg\" alt=\"Open In Colab\"/></a>"
      ]
    },
    {
      "cell_type": "markdown",
      "source": [
        "Install Deep Translator\n"
      ],
      "metadata": {
        "id": "7sZnbN4FXaTK"
      }
    },
    {
      "cell_type": "code",
      "execution_count": 7,
      "metadata": {
        "colab": {
          "base_uri": "https://localhost:8080/"
        },
        "id": "ijfCr5R9c542",
        "outputId": "976b6dc2-7bf8-4986-9e57-4a473f572388"
      },
      "outputs": [
        {
          "output_type": "stream",
          "name": "stdout",
          "text": [
            "Requirement already satisfied: pandas in /usr/local/lib/python3.11/dist-packages (2.2.2)\n",
            "Requirement already satisfied: deep-translator in /usr/local/lib/python3.11/dist-packages (1.11.4)\n",
            "Requirement already satisfied: numpy>=1.23.2 in /usr/local/lib/python3.11/dist-packages (from pandas) (2.0.2)\n",
            "Requirement already satisfied: python-dateutil>=2.8.2 in /usr/local/lib/python3.11/dist-packages (from pandas) (2.9.0.post0)\n",
            "Requirement already satisfied: pytz>=2020.1 in /usr/local/lib/python3.11/dist-packages (from pandas) (2025.2)\n",
            "Requirement already satisfied: tzdata>=2022.7 in /usr/local/lib/python3.11/dist-packages (from pandas) (2025.2)\n",
            "Requirement already satisfied: beautifulsoup4<5.0.0,>=4.9.1 in /usr/local/lib/python3.11/dist-packages (from deep-translator) (4.13.4)\n",
            "Requirement already satisfied: requests<3.0.0,>=2.23.0 in /usr/local/lib/python3.11/dist-packages (from deep-translator) (2.32.3)\n",
            "Requirement already satisfied: soupsieve>1.2 in /usr/local/lib/python3.11/dist-packages (from beautifulsoup4<5.0.0,>=4.9.1->deep-translator) (2.7)\n",
            "Requirement already satisfied: typing-extensions>=4.0.0 in /usr/local/lib/python3.11/dist-packages (from beautifulsoup4<5.0.0,>=4.9.1->deep-translator) (4.14.1)\n",
            "Requirement already satisfied: six>=1.5 in /usr/local/lib/python3.11/dist-packages (from python-dateutil>=2.8.2->pandas) (1.17.0)\n",
            "Requirement already satisfied: charset-normalizer<4,>=2 in /usr/local/lib/python3.11/dist-packages (from requests<3.0.0,>=2.23.0->deep-translator) (3.4.2)\n",
            "Requirement already satisfied: idna<4,>=2.5 in /usr/local/lib/python3.11/dist-packages (from requests<3.0.0,>=2.23.0->deep-translator) (3.10)\n",
            "Requirement already satisfied: urllib3<3,>=1.21.1 in /usr/local/lib/python3.11/dist-packages (from requests<3.0.0,>=2.23.0->deep-translator) (2.4.0)\n",
            "Requirement already satisfied: certifi>=2017.4.17 in /usr/local/lib/python3.11/dist-packages (from requests<3.0.0,>=2.23.0->deep-translator) (2025.7.9)\n"
          ]
        }
      ],
      "source": [
        "pip install pandas deep-translator\n"
      ]
    },
    {
      "cell_type": "markdown",
      "source": [
        "**Translation in Hindi and Hinglish**"
      ],
      "metadata": {
        "id": "JEBu6LcrXlNZ"
      }
    },
    {
      "cell_type": "code",
      "source": [
        "import pandas as pd\n",
        "from deep_translator import GoogleTranslator\n",
        "\n",
        "# Load your CSV file\n",
        "df = pd.read_csv(\"Prompts.csv\")  # Replace with your actual CSV path\n",
        "\n",
        "# Add columns if they don't exist\n",
        "df['Hindi Translation'] = \"\"\n",
        "df['Code-Mixed (Hinglish)'] = \"\"\n",
        "\n",
        "# Function to translate to Hindi\n",
        "def translate_to_hindi(text):\n",
        "    try:\n",
        "        return GoogleTranslator(source='auto', target='hi').translate(text)\n",
        "    except Exception as e:\n",
        "        print(f\"Error translating '{text}' to Hindi: {e}\")\n",
        "        return text\n",
        "\n",
        "# Function to create code-mixed (Hinglish)\n",
        "def code_mixed(text, hindi_translation):\n",
        "    # Very simple code-mix strategy: combine original with keywords from Hindi\n",
        "    return f\"{text.split('?')[0]} ka kya solution hai?\" if \"?\" in text else text + \" ke baare mein kya jaan sakte hain?\"\n",
        "\n",
        "# Translate all prompts\n",
        "for idx, row in df.iterrows():\n",
        "    english_prompt = row['Prompt']\n",
        "    hindi = translate_to_hindi(english_prompt)\n",
        "    hinglish = code_mixed(english_prompt, hindi)\n",
        "\n",
        "    df.at[idx, 'Hindi Translation'] = hindi\n",
        "    df.at[idx, 'Code-Mixed (Hinglish)'] = hinglish\n",
        "\n",
        "# Save to a new CSV\n",
        "df.to_csv(\"translated_prompts.csv\", index=False)\n",
        "print(\"✅ Translations saved to translated_prompts.csv\")\n"
      ],
      "metadata": {
        "colab": {
          "base_uri": "https://localhost:8080/"
        },
        "id": "RClvsTS8dJ9S",
        "outputId": "4614ef36-6e26-4ada-a685-b8f7ebc8f3f4"
      },
      "execution_count": 9,
      "outputs": [
        {
          "output_type": "stream",
          "name": "stdout",
          "text": [
            "✅ Translations saved to translated_prompts.csv\n"
          ]
        }
      ]
    },
    {
      "cell_type": "markdown",
      "source": [
        "**Intent Classification**"
      ],
      "metadata": {
        "id": "1HmqHSa2XvB_"
      }
    },
    {
      "cell_type": "code",
      "source": [
        "import pandas as pd\n",
        "\n",
        "# Load the translated CSV\n",
        "df = pd.read_csv(\"translated_prompts.csv\")\n",
        "\n",
        "# Define intent keywords and mappings\n",
        "intent_keywords = {\n",
        "    \"symptom_query\": [\"cramp\", \"pain\", \"irregular\", \"fatigue\", \"bloating\", \"tender\", \"nausea\", \"clots\", \"spotting\", \"bleeding\", \"headache\"],\n",
        "    \"mental_wellness\": [\"anxiety\", \"depression\", \"mood swing\", \"emotional\", \"stress\", \"feel better\", \"coping\", \"low\", \"mental\"],\n",
        "    \"diet_advice\": [\"food\", \"eat\", \"diet\", \"drink\", \"nutrient\", \"magnesium\", \"snack\", \"vitamin\", \"craving\", \"herbal\"],\n",
        "    \"exercise_guidance\": [\"exercise\", \"workout\", \"stretch\", \"yoga\", \"sports\", \"run\", \"swim\", \"cardio\", \"fitness\", \"physical\"],\n",
        "    \"myth_busting\": [\"myth\", \"true\", \"false\", \"fact\", \"really\", \"virgin\", \"sync\", \"dirty\", \"pregnant\", \"stop your period\"]\n",
        "}\n",
        "\n",
        "# Function to assign intent\n",
        "def assign_intent(prompt):\n",
        "    prompt_lower = prompt.lower()\n",
        "    for intent, keywords in intent_keywords.items():\n",
        "        if any(kw in prompt_lower for kw in keywords):\n",
        "            return intent\n",
        "    return \"mental_wellness\"  # default fallback\n",
        "\n",
        "# Apply the function to create the Intent column\n",
        "df[\"Intent\"] = df[\"Prompt\"].apply(assign_intent)\n",
        "\n",
        "# Save the updated CSV\n",
        "df.to_csv(\"categorized_prompts.csv\", index=False)\n",
        "print(\"✅ Categorization complete and saved to categorized_prompts.csv\")\n"
      ],
      "metadata": {
        "colab": {
          "base_uri": "https://localhost:8080/"
        },
        "id": "ymUaRvBnM4xk",
        "outputId": "290dbd6b-bbe0-44df-fe96-ae368d0eeb9c"
      },
      "execution_count": 10,
      "outputs": [
        {
          "output_type": "stream",
          "name": "stdout",
          "text": [
            "✅ Categorization complete and saved to categorized_prompts.csv\n"
          ]
        }
      ]
    },
    {
      "cell_type": "code",
      "source": [],
      "metadata": {
        "id": "bQyZGlRjfd7G"
      },
      "execution_count": null,
      "outputs": []
    },
    {
      "cell_type": "markdown",
      "source": [
        "**Adding Context and Tag**"
      ],
      "metadata": {
        "id": "osorhrQWX82X"
      }
    },
    {
      "cell_type": "code",
      "source": [
        "import pandas as pd\n",
        "\n",
        "# Load the categorized file\n",
        "df = pd.read_csv(\"categorized_prompts.csv\")\n",
        "\n",
        "# Add Context and Tags columns if not already present\n",
        "df[\"Context\"] = \"\"\n",
        "df[\"Tags\"] = \"\"\n",
        "\n",
        "# Context and tag rules\n",
        "def get_context_and_tags(prompt):\n",
        "    p = prompt.lower()\n",
        "\n",
        "    # Default values\n",
        "    context = \"general\"\n",
        "    tags = [\"general\"]\n",
        "\n",
        "    # Health-related symptoms\n",
        "    if any(word in p for word in [\"cramp\", \"period pain\", \"irregular\", \"flow\", \"spotting\", \"bloating\"]):\n",
        "        context = \"period health\"\n",
        "        tags = [\"menstruation\", \"pain\", \"symptom\"]\n",
        "\n",
        "    elif any(word in p for word in [\"mood swing\", \"anxiety\", \"depression\", \"lonely\", \"cry\", \"stress\"]):\n",
        "        context = \"mental wellness\"\n",
        "        tags = [\"emotion\", \"mental health\", \"stress\"]\n",
        "\n",
        "    elif any(word in p for word in [\"exercise\", \"diet\", \"track\", \"remedy\", \"cope\", \"solution\"]):\n",
        "        context = \"self-care\"\n",
        "        tags = [\"coping\", \"remedy\", \"self-help\"]\n",
        "\n",
        "    elif any(word in p for word in [\"pcos\", \"hormonal\", \"imbalance\"]):\n",
        "        context = \"PCOS awareness\"\n",
        "        tags = [\"PCOS\", \"hormones\"]\n",
        "\n",
        "    elif any(word in p for word in [\"teen\", \"first period\", \"young\", \"school\"]):\n",
        "        context = \"teen health\"\n",
        "        tags = [\"teen\", \"first period\", \"awareness\"]\n",
        "\n",
        "    return context, \", \".join(tags)\n",
        "\n",
        "# Apply to DataFrame\n",
        "df[[\"Context\", \"Tags\"]] = df[\"Prompt\"].apply(lambda x: pd.Series(get_context_and_tags(x)))\n",
        "\n",
        "# Save it\n",
        "df.to_csv(\"final_prompts_dataset.csv\", index=False, encoding='utf-8-sig')\n",
        "print(\"✅ Context and Tags added (with defaults)! File saved as final_prompts_dataset.csv\")\n"
      ],
      "metadata": {
        "colab": {
          "base_uri": "https://localhost:8080/"
        },
        "id": "3s6zKuwyUWIR",
        "outputId": "fa607093-a7e3-4750-efd7-76c854fdc547"
      },
      "execution_count": 14,
      "outputs": [
        {
          "output_type": "stream",
          "name": "stdout",
          "text": [
            "✅ Context and Tags added (with defaults)! File saved as final_prompts_dataset.csv\n"
          ]
        }
      ]
    },
    {
      "cell_type": "markdown",
      "source": [
        "**Translation in Multiple Languages**"
      ],
      "metadata": {
        "id": "zrzY1N9YYJbp"
      }
    },
    {
      "cell_type": "code",
      "source": [
        "import pandas as pd\n",
        "from deep_translator import GoogleTranslator\n",
        "\n",
        "# Load your final dataset\n",
        "df = pd.read_csv(\"final_prompts_dataset.csv\")\n",
        "\n",
        "# Updated list of languages to translate to\n",
        "target_languages = {\n",
        "    \"Tamil\": \"ta\",\n",
        "    \"Bengali\": \"bn\",\n",
        "    \"Marathi\": \"mr\",\n",
        "    \"Urdu\": \"ur\",\n",
        "    \"Telugu\": \"te\"\n",
        "}\n",
        "\n",
        "# Add empty columns for each language\n",
        "for lang in target_languages:\n",
        "    col_name = f\"{lang} Translation\"\n",
        "    if col_name not in df.columns:\n",
        "        df[col_name] = \"\"\n",
        "\n",
        "# Translate function\n",
        "def translate_prompt(text, target_lang_code):\n",
        "    try:\n",
        "        return GoogleTranslator(source='auto', target=target_lang_code).translate(text)\n",
        "    except Exception as e:\n",
        "        print(f\"❌ Error for '{text}' in '{target_lang_code}': {e}\")\n",
        "        return \"\"\n",
        "\n",
        "# Perform translation for each prompt into each language\n",
        "for idx, row in df.iterrows():\n",
        "    prompt = row[\"Prompt\"]\n",
        "    for lang, code in target_languages.items():\n",
        "        translated_text = translate_prompt(prompt, code)\n",
        "        df.at[idx, f\"{lang} Translation\"] = translated_text\n",
        "\n",
        "# Save updated file\n",
        "df.to_csv(\"multilingual_prompts_dataset.csv\", index=False)\n",
        "print(\"✅ All prompts translated and saved to multilingual_prompts_dataset.csv\")\n"
      ],
      "metadata": {
        "colab": {
          "base_uri": "https://localhost:8080/"
        },
        "id": "U136a-h8jH5r",
        "outputId": "8e9b0d5a-5f03-47bb-c3c8-255de8caa5a4"
      },
      "execution_count": 15,
      "outputs": [
        {
          "output_type": "stream",
          "name": "stdout",
          "text": [
            "✅ All prompts translated and saved to multilingual_prompts_dataset.csv\n"
          ]
        }
      ]
    },
    {
      "cell_type": "code",
      "source": [
        "df.to_csv(\"multilingual_prompts_dataset.csv\", index=False, encoding='utf-8-sig')\n"
      ],
      "metadata": {
        "id": "U51Ub_ZRvngu"
      },
      "execution_count": 16,
      "outputs": []
    },
    {
      "cell_type": "code",
      "source": [],
      "metadata": {
        "id": "gejTr5ATvTko"
      },
      "execution_count": null,
      "outputs": []
    }
  ]
}